{
 "cells": [
  {
   "cell_type": "code",
   "execution_count": 2,
   "id": "7522b850",
   "metadata": {},
   "outputs": [
    {
     "name": "stdout",
     "output_type": "stream",
     "text": [
      "测试第 1 页 ...\n"
     ]
    },
    {
     "name": "stderr",
     "output_type": "stream",
     "text": [
      "处理 BV1DJfeYPES3: 100%|██████████| 36/36 [00:44<00:00,  1.23s/it, 状态=成功]    "
     ]
    },
    {
     "name": "stdout",
     "output_type": "stream",
     "text": [
      "第 1 页获取到 32 个视频\n",
      "\n",
      "测试完成：共抓取 32 个视频，用时 46.63 秒\n",
      "平均每个视频耗时：1.46 秒\n"
     ]
    },
    {
     "name": "stderr",
     "output_type": "stream",
     "text": [
      "\n"
     ]
    }
   ],
   "source": [
    "import asyncio\n",
    "import time\n",
    "from bilibili_api import BilibiliAPI\n",
    "import nest_asyncio\n",
    "nest_asyncio.apply()\n",
    "\n",
    "async def test_crawler_efficiency(keyword=\"翁法罗斯\", test_pages=1):\n",
    "    api = BilibiliAPI()\n",
    "    total_videos = 0\n",
    "    start_time = time.time()\n",
    "    for page in range(1, test_pages + 1):\n",
    "        print(f\"测试第 {page} 页 ...\")\n",
    "        results = await api.search_and_get_video_info(keyword=keyword, page=page)\n",
    "        print(f\"第 {page} 页获取到 {len(results)} 个视频\")\n",
    "        total_videos += len(results)\n",
    "    end_time = time.time()\n",
    "    elapsed = end_time - start_time\n",
    "    print(f\"\\n测试完成：共抓取 {total_videos} 个视频，用时 {elapsed:.2f} 秒\")\n",
    "    if total_videos > 0:\n",
    "        print(f\"平均每个视频耗时：{elapsed / total_videos:.2f} 秒\")\n",
    "    else:\n",
    "        print(\"未获取到视频，无法计算效率。\")\n",
    "\n",
    "await test_crawler_efficiency(keyword=\"翁法罗斯\", test_pages=1)"
   ]
  }
 ],
 "metadata": {
  "kernelspec": {
   "display_name": "pyforday",
   "language": "python",
   "name": "python3"
  },
  "language_info": {
   "codemirror_mode": {
    "name": "ipython",
    "version": 3
   },
   "file_extension": ".py",
   "mimetype": "text/x-python",
   "name": "python",
   "nbconvert_exporter": "python",
   "pygments_lexer": "ipython3",
   "version": "3.11.9"
  }
 },
 "nbformat": 4,
 "nbformat_minor": 5
}
